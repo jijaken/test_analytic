{
 "cells": [
  {
   "cell_type": "code",
   "execution_count": 1,
   "id": "9475a2ed",
   "metadata": {},
   "outputs": [],
   "source": [
    "import pandas as pd\n",
    "import openpyxl as opxl\n",
    "import numpy as np\n",
    "import xlsxwriter"
   ]
  },
  {
   "cell_type": "code",
   "execution_count": 2,
   "id": "8f0f48a1",
   "metadata": {},
   "outputs": [],
   "source": [
    "result = pd.read_excel('Тестовое задание.xlsx','Решение')"
   ]
  },
  {
   "cell_type": "code",
   "execution_count": 3,
   "id": "f8df34a3",
   "metadata": {},
   "outputs": [],
   "source": [
    "data1 = pd.read_excel('Данные ЭС обезличен.xlsx')\n",
    "data2 = pd.read_excel('ЭС_июнь обезличен.xlsx')"
   ]
  },
  {
   "cell_type": "code",
   "execution_count": 4,
   "id": "63499198",
   "metadata": {
    "scrolled": false
   },
   "outputs": [],
   "source": [
    "def account_number_create(string):\n",
    "    if type(string) is str:     \n",
    "        string = string.split('_')[-1]\n",
    "        string= 'Л/С: ' + string\n",
    "    \n",
    "    return string\n",
    "    \n",
    "data1['Лицевой счет'] = data1['Код (О)'].apply(account_number_create)"
   ]
  },
  {
   "cell_type": "code",
   "execution_count": 5,
   "id": "2022aa7c",
   "metadata": {},
   "outputs": [],
   "source": [
    "def addres_edit(string):\n",
    "    if type(string) is str:\n",
    "        string = string.split(',')\n",
    "        new_string = ''\n",
    "        for i in range(1,len(string)):\n",
    "            new_string += string[i].strip() +', '\n",
    "\n",
    "        new_string = new_string[:-2].strip()\n",
    "        return new_string\n",
    "    else:\n",
    "        return string          \n",
    "data1['Адрес юридический (ФИАС) наименование* (К)'] = data1['Адрес юридический (ФИАС) наименование* (К)'].apply(addres_edit)"
   ]
  },
  {
   "cell_type": "code",
   "execution_count": 6,
   "id": "b7a34773",
   "metadata": {},
   "outputs": [],
   "source": [
    "def complement_list(list1,list2):\n",
    "    for i in range(len(list1)):\n",
    "        if (list1[i] is np.nan) or ('Unnamed' in str(list1[i])):\n",
    "            list1[i]=list2[i]\n",
    "    \n",
    "    return list1\n",
    "\n",
    "data2.columns = complement_list(list(data2.iloc[2]),list(data2.iloc[1]))\n",
    "data1.columns = complement_list(list(data1.columns),list(data1.iloc[0]))\n",
    "data2 = data2[3:]\n",
    "data1 = data1[1:]"
   ]
  },
  {
   "cell_type": "code",
   "execution_count": 7,
   "id": "1da770db",
   "metadata": {},
   "outputs": [],
   "source": [
    "n_data = pd.merge(data1,data2,how='right',on='Лицевой счет')"
   ]
  },
  {
   "cell_type": "code",
   "execution_count": 8,
   "id": "85aa2572",
   "metadata": {},
   "outputs": [
    {
     "data": {
      "text/plain": [
       "Index([                                         '№ п/п',\n",
       "                                              'Код (О)',\n",
       "                              'Номер обязательства (О)',\n",
       "                                           'Объект (О)',\n",
       "                                              'Код (П)',\n",
       "                                             'Код (СД)',\n",
       "                                          'Объект (СД)',\n",
       "                                              'Код (К)',\n",
       "                                           'Объект (К)',\n",
       "                          'Владелец (наименование) (О)',\n",
       "                          'Кредитор (наименование) (О)',\n",
       "                                     'Наименование (К)',\n",
       "           'Адрес юридический (ФИАС) наименование* (К)',\n",
       "                             'Портфель для группировки',\n",
       "                                                'Итого',\n",
       "       'Доп. рекв.: Сумма переданной задолженности (О)',\n",
       "                    'Задолж.: Сумма - Кон. остаток (О)',\n",
       "                                         'Лицевой счет',\n",
       "                                                 '№ пп',\n",
       "                                           'Контрагент',\n",
       "                                                    nan,\n",
       "                                                    nan,\n",
       "                                              'Договор',\n",
       "                                                    nan,\n",
       "                                                'Адрес',\n",
       "                                         'Дата статуса',\n",
       "                                            'Коллектор',\n",
       "                                               'Статус',\n",
       "                                          'Сумма долга',\n",
       "                                       'Сумма оплачено',\n",
       "                               'Процент вознаграждения',\n",
       "                                 'Сумма вознаграждения'],\n",
       "      dtype='object')"
      ]
     },
     "execution_count": 8,
     "metadata": {},
     "output_type": "execute_result"
    }
   ],
   "source": [
    "n_data.columns"
   ]
  },
  {
   "cell_type": "code",
   "execution_count": 9,
   "id": "6127e428",
   "metadata": {
    "scrolled": true
   },
   "outputs": [
    {
     "data": {
      "text/html": [
       "<div>\n",
       "<style scoped>\n",
       "    .dataframe tbody tr th:only-of-type {\n",
       "        vertical-align: middle;\n",
       "    }\n",
       "\n",
       "    .dataframe tbody tr th {\n",
       "        vertical-align: top;\n",
       "    }\n",
       "\n",
       "    .dataframe thead th {\n",
       "        text-align: right;\n",
       "    }\n",
       "</style>\n",
       "<table border=\"1\" class=\"dataframe\">\n",
       "  <thead>\n",
       "    <tr style=\"text-align: right;\">\n",
       "      <th></th>\n",
       "      <th>№</th>\n",
       "      <th>Лицевой счет</th>\n",
       "      <th>Адрес</th>\n",
       "      <th>СД</th>\n",
       "      <th>К</th>\n",
       "      <th>Дата статуса</th>\n",
       "      <th>Сумма оплачено</th>\n",
       "    </tr>\n",
       "  </thead>\n",
       "  <tbody>\n",
       "    <tr>\n",
       "      <th>0</th>\n",
       "      <td>NaN</td>\n",
       "      <td>Л/С: 000113042</td>\n",
       "      <td>NaN</td>\n",
       "      <td>NaN</td>\n",
       "      <td>NaN</td>\n",
       "      <td>NaN</td>\n",
       "      <td>NaN</td>\n",
       "    </tr>\n",
       "    <tr>\n",
       "      <th>1</th>\n",
       "      <td>NaN</td>\n",
       "      <td>Л/С: 000255041</td>\n",
       "      <td>NaN</td>\n",
       "      <td>NaN</td>\n",
       "      <td>NaN</td>\n",
       "      <td>NaN</td>\n",
       "      <td>NaN</td>\n",
       "    </tr>\n",
       "    <tr>\n",
       "      <th>2</th>\n",
       "      <td>NaN</td>\n",
       "      <td>Л/С: 000109856</td>\n",
       "      <td>NaN</td>\n",
       "      <td>NaN</td>\n",
       "      <td>NaN</td>\n",
       "      <td>NaN</td>\n",
       "      <td>NaN</td>\n",
       "    </tr>\n",
       "    <tr>\n",
       "      <th>3</th>\n",
       "      <td>NaN</td>\n",
       "      <td>Л/С: 000211711</td>\n",
       "      <td>NaN</td>\n",
       "      <td>NaN</td>\n",
       "      <td>NaN</td>\n",
       "      <td>NaN</td>\n",
       "      <td>NaN</td>\n",
       "    </tr>\n",
       "    <tr>\n",
       "      <th>4</th>\n",
       "      <td>NaN</td>\n",
       "      <td>Л/С: 000254636</td>\n",
       "      <td>NaN</td>\n",
       "      <td>NaN</td>\n",
       "      <td>NaN</td>\n",
       "      <td>NaN</td>\n",
       "      <td>NaN</td>\n",
       "    </tr>\n",
       "    <tr>\n",
       "      <th>...</th>\n",
       "      <td>...</td>\n",
       "      <td>...</td>\n",
       "      <td>...</td>\n",
       "      <td>...</td>\n",
       "      <td>...</td>\n",
       "      <td>...</td>\n",
       "      <td>...</td>\n",
       "    </tr>\n",
       "    <tr>\n",
       "      <th>1095</th>\n",
       "      <td>NaN</td>\n",
       "      <td>Л/С: 000159296</td>\n",
       "      <td>NaN</td>\n",
       "      <td>NaN</td>\n",
       "      <td>NaN</td>\n",
       "      <td>NaN</td>\n",
       "      <td>NaN</td>\n",
       "    </tr>\n",
       "    <tr>\n",
       "      <th>1096</th>\n",
       "      <td>NaN</td>\n",
       "      <td>Л/С: 000240598</td>\n",
       "      <td>NaN</td>\n",
       "      <td>NaN</td>\n",
       "      <td>NaN</td>\n",
       "      <td>NaN</td>\n",
       "      <td>NaN</td>\n",
       "    </tr>\n",
       "    <tr>\n",
       "      <th>1097</th>\n",
       "      <td>NaN</td>\n",
       "      <td>Л/С: 000336882</td>\n",
       "      <td>NaN</td>\n",
       "      <td>NaN</td>\n",
       "      <td>NaN</td>\n",
       "      <td>NaN</td>\n",
       "      <td>NaN</td>\n",
       "    </tr>\n",
       "    <tr>\n",
       "      <th>1098</th>\n",
       "      <td>NaN</td>\n",
       "      <td>Л/С: 000304643</td>\n",
       "      <td>NaN</td>\n",
       "      <td>NaN</td>\n",
       "      <td>NaN</td>\n",
       "      <td>NaN</td>\n",
       "      <td>NaN</td>\n",
       "    </tr>\n",
       "    <tr>\n",
       "      <th>1099</th>\n",
       "      <td>NaN</td>\n",
       "      <td>Л/С: 000305391</td>\n",
       "      <td>NaN</td>\n",
       "      <td>NaN</td>\n",
       "      <td>NaN</td>\n",
       "      <td>NaN</td>\n",
       "      <td>NaN</td>\n",
       "    </tr>\n",
       "  </tbody>\n",
       "</table>\n",
       "<p>1100 rows × 7 columns</p>\n",
       "</div>"
      ],
      "text/plain": [
       "       №    Лицевой счет  Адрес  СД  К   Дата статуса  Сумма оплачено\n",
       "0    NaN  Л/С: 000113042    NaN NaN NaN           NaN             NaN\n",
       "1    NaN  Л/С: 000255041    NaN NaN NaN           NaN             NaN\n",
       "2    NaN  Л/С: 000109856    NaN NaN NaN           NaN             NaN\n",
       "3    NaN  Л/С: 000211711    NaN NaN NaN           NaN             NaN\n",
       "4    NaN  Л/С: 000254636    NaN NaN NaN           NaN             NaN\n",
       "...   ..             ...    ...  ..  ..           ...             ...\n",
       "1095 NaN  Л/С: 000159296    NaN NaN NaN           NaN             NaN\n",
       "1096 NaN  Л/С: 000240598    NaN NaN NaN           NaN             NaN\n",
       "1097 NaN  Л/С: 000336882    NaN NaN NaN           NaN             NaN\n",
       "1098 NaN  Л/С: 000304643    NaN NaN NaN           NaN             NaN\n",
       "1099 NaN  Л/С: 000305391    NaN NaN NaN           NaN             NaN\n",
       "\n",
       "[1100 rows x 7 columns]"
      ]
     },
     "execution_count": 9,
     "metadata": {},
     "output_type": "execute_result"
    }
   ],
   "source": [
    "result"
   ]
  },
  {
   "cell_type": "code",
   "execution_count": 10,
   "id": "0116afe0",
   "metadata": {},
   "outputs": [],
   "source": [
    "ndf = n_data[['Лицевой счет','Адрес юридический (ФИАС) наименование* (К)','Код (СД)','Код (К)',\n",
    "              'Дата статуса','Сумма оплачено','Портфель для группировки']]\n",
    "result = result.drop(['Адрес','СД','К ','Дата статуса','Сумма оплачено'],axis='columns')\n",
    "result = pd.merge(result,ndf,how='left',on='Лицевой счет')"
   ]
  },
  {
   "cell_type": "code",
   "execution_count": 11,
   "id": "7c007c89",
   "metadata": {},
   "outputs": [],
   "source": [
    "result['№'] = result.index+1"
   ]
  },
  {
   "cell_type": "code",
   "execution_count": 12,
   "id": "1c6f79c4",
   "metadata": {},
   "outputs": [],
   "source": [
    "sum_group = result['Сумма оплачено'].groupby(result['Портфель для группировки']).sum().reset_index()"
   ]
  },
  {
   "cell_type": "code",
   "execution_count": 13,
   "id": "c58147bd",
   "metadata": {
    "scrolled": true
   },
   "outputs": [
    {
     "name": "stdout",
     "output_type": "stream",
     "text": [
      "  Портфель для группировки Сумма оплачено\n",
      "0                     ЭС_1     1100030.87\n",
      "1                     ЭС_2       21886.32\n",
      "2                     ЭС_3      686998.17\n"
     ]
    },
    {
     "data": {
      "text/plain": [
       "<AxesSubplot:>"
      ]
     },
     "execution_count": 13,
     "metadata": {},
     "output_type": "execute_result"
    },
    {
     "data": {
      "image/png": "[encoded data removed]",
      "text/plain": [
       "<Figure size 432x288 with 1 Axes>"
      ]
     },
     "metadata": {
      "needs_background": "light"
     },
     "output_type": "display_data"
    }
   ],
   "source": [
    "print(sum_group)\n",
    "sum_group.plot()"
   ]
  },
  {
   "cell_type": "code",
   "execution_count": 14,
   "id": "b50bc102",
   "metadata": {
    "scrolled": true
   },
   "outputs": [],
   "source": [
    "with pd.ExcelWriter('result.xlsx',engine='xlsxwriter') as writer:  \n",
    "    result.to_excel(writer, sheet_name ='Решение',index=False) \n",
    "    sum_group.to_excel(writer, sheet_name ='Портфель для группировки',index=False) "
   ]
  }
 ],
 "metadata": {
  "kernelspec": {
   "display_name": "Python 3 (ipykernel)",
   "language": "python",
   "name": "python3"
  },
  "language_info": {
   "codemirror_mode": {
    "name": "ipython",
    "version": 3
   },
   "file_extension": ".py",
   "mimetype": "text/x-python",
   "name": "python",
   "nbconvert_exporter": "python",
   "pygments_lexer": "ipython3",
   "version": "3.9.12"
  }
 },
 "nbformat": 4,
 "nbformat_minor": 5
}
